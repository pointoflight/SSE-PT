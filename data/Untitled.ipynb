{
 "cells": [
  {
   "cell_type": "code",
   "execution_count": 1,
   "id": "e66c523d",
   "metadata": {},
   "outputs": [],
   "source": [
    "import tensorflow as tf"
   ]
  },
  {
   "cell_type": "code",
   "execution_count": 2,
   "id": "e1c0e606",
   "metadata": {},
   "outputs": [],
   "source": [
    "example = tf.train.Example()"
   ]
  },
  {
   "cell_type": "code",
   "execution_count": 3,
   "id": "ff75043e",
   "metadata": {},
   "outputs": [
    {
     "data": {
      "text/plain": []
     },
     "execution_count": 3,
     "metadata": {},
     "output_type": "execute_result"
    }
   ],
   "source": [
    "example"
   ]
  },
  {
   "cell_type": "code",
   "execution_count": 112,
   "id": "3f592ddc",
   "metadata": {},
   "outputs": [],
   "source": [
    "# The following functions can be used to convert a value to a type compatible\n",
    "# with tf.train.Example.\n",
    "\n",
    "def _bytes_feature(values):\n",
    "  \"\"\"Returns a bytes_list from a string / byte.\"\"\"\n",
    "  vv = values\n",
    "  if isinstance(values[0], type(tf.constant(0))):\n",
    "    vv = [val.numpy() for val in values]\n",
    "#     value = value.numpy() # BytesList won't unpack a string from an EagerTensor.\n",
    "  return tf.train.Feature(bytes_list=tf.train.BytesList(value=vv))\n",
    "\n",
    "def _float_feature(value):\n",
    "  \"\"\"Returns a float_list from a float / double.\"\"\"\n",
    "  return tf.train.Feature(float_list=tf.train.FloatList(value=[value]))\n",
    "\n",
    "def _int64_feature(value):\n",
    "  \"\"\"Returns an int64_list from a bool / enum / int / uint.\"\"\"\n",
    "  return tf.train.Feature(int64_list=tf.train.Int64List(value=[value]))"
   ]
  },
  {
   "cell_type": "code",
   "execution_count": 109,
   "id": "c2eb7b8d",
   "metadata": {},
   "outputs": [
    {
     "name": "stdout",
     "output_type": "stream",
     "text": [
      "Beauty.txt     Untitled.ipynb ml1m.txt\r\n",
      "Steam.txt      Video.txt      tfrecord.ipynb\r\n"
     ]
    }
   ],
   "source": [
    "!ls"
   ]
  },
  {
   "cell_type": "code",
   "execution_count": 110,
   "id": "734af419",
   "metadata": {},
   "outputs": [],
   "source": [
    "file1 = open('ml1m.txt', 'r')\n",
    "lines = file1.readlines()\n",
    "# lines"
   ]
  },
  {
   "cell_type": "code",
   "execution_count": 113,
   "id": "a1f397ce",
   "metadata": {},
   "outputs": [
    {
     "data": {
      "text/plain": [
       "bytes_list {\n",
       "  value: \"user_id1\"\n",
       "  value: \"user_id2\"\n",
       "}"
      ]
     },
     "execution_count": 113,
     "metadata": {},
     "output_type": "execute_result"
    }
   ],
   "source": [
    "ms = [b'user_id1', b'user_id2']\n",
    "# ms = ms.encode('UTF-8')\n",
    "a = _bytes_feature(ms)\n",
    "\n",
    "# print(isinstance(ms, type(tf.constant(0))))\n",
    "a"
   ]
  },
  {
   "cell_type": "code",
   "execution_count": 29,
   "id": "2b30ede9",
   "metadata": {},
   "outputs": [],
   "source": [
    "def serialize_example(feature0, feature1, feature2, feature3):\n",
    "  \"\"\"\n",
    "  Creates a tf.train.Example message ready to be written to a file.\n",
    "  \"\"\"\n",
    "  # Create a dictionary mapping the feature name to the tf.train.Example-compatible\n",
    "  # data type.\n",
    "  feature = {\n",
    "      'user': _bytes_feature(feature0),\n",
    "      'video': _bytes_feature(feature1),\n",
    "      'values': _float_feature(feature2),\n",
    "      'weights': _float_feature(feature3),\n",
    "  }\n",
    "\n",
    "  # Create a Features message using tf.train.Example.\n",
    "\n",
    "  example_proto = tf.train.Example(features=tf.train.Features(feature=feature))\n",
    "  return example_proto.SerializeToString()"
   ]
  },
  {
   "cell_type": "code",
   "execution_count": 31,
   "id": "756186b6",
   "metadata": {},
   "outputs": [
    {
     "data": {
      "text/plain": [
       "b'\\nV\\n\\x13\\n\\x07weights\\x12\\x08\\x12\\x06\\n\\x04\\x00\\x00\\x80?\\n\\x15\\n\\x05video\\x12\\x0c\\n\\n\\n\\x08item_id0\\n\\x14\\n\\x04user\\x12\\x0c\\n\\n\\n\\x08user_id1\\n\\x12\\n\\x06values\\x12\\x08\\x12\\x06\\n\\x04\\x00\\x00\\x80?'"
      ]
     },
     "execution_count": 31,
     "metadata": {},
     "output_type": "execute_result"
    }
   ],
   "source": [
    "serialized_example = serialize_example(b'user_id1', b'item_id0', 1.0, 1.0)\n",
    "serialized_example"
   ]
  },
  {
   "cell_type": "code",
   "execution_count": 32,
   "id": "9ade4f38",
   "metadata": {},
   "outputs": [
    {
     "data": {
      "text/plain": [
       "features {\n",
       "  feature {\n",
       "    key: \"user\"\n",
       "    value {\n",
       "      bytes_list {\n",
       "        value: \"user_id1\"\n",
       "      }\n",
       "    }\n",
       "  }\n",
       "  feature {\n",
       "    key: \"values\"\n",
       "    value {\n",
       "      float_list {\n",
       "        value: 1.0\n",
       "      }\n",
       "    }\n",
       "  }\n",
       "  feature {\n",
       "    key: \"video\"\n",
       "    value {\n",
       "      bytes_list {\n",
       "        value: \"item_id0\"\n",
       "      }\n",
       "    }\n",
       "  }\n",
       "  feature {\n",
       "    key: \"weights\"\n",
       "    value {\n",
       "      float_list {\n",
       "        value: 1.0\n",
       "      }\n",
       "    }\n",
       "  }\n",
       "}"
      ]
     },
     "execution_count": 32,
     "metadata": {},
     "output_type": "execute_result"
    }
   ],
   "source": [
    "example_proto = tf.train.Example.FromString(serialized_example)\n",
    "example_proto"
   ]
  },
  {
   "cell_type": "code",
   "execution_count": 26,
   "id": "a40cb606",
   "metadata": {},
   "outputs": [
    {
     "name": "stdout",
     "output_type": "stream",
     "text": [
      "user_id1 item_id32\n",
      "\n",
      "user_id1 item_id23\n",
      "\n",
      "user_id1 item_id28\n",
      "\n",
      "user_id1 item_id38\n",
      "\n",
      "user_id1 item_id25\n",
      "\n"
     ]
    }
   ],
   "source": [
    "for line in lines:\n",
    "    a = line.split(' ')\n",
    "    user_id = 'user_id' + a[0]\n",
    "    item_id = 'item_id' + a[1]\n",
    "    \n",
    "    bf = _bytes_feature(item_id.encode('UTF-8'))\n",
    "    example.features.feature['user']"
   ]
  },
  {
   "cell_type": "code",
   "execution_count": 88,
   "id": "4946833b",
   "metadata": {},
   "outputs": [],
   "source": [
    "myd = {\n",
    "    'user' : ['user_id1'],\n",
    "    'video': ['video_id3', 'video_id6'],\n",
    "    'values' : [1.0, 1.0],\n",
    "    'weights' : [1.0, 1.0],\n",
    "}"
   ]
  },
  {
   "cell_type": "code",
   "execution_count": 89,
   "id": "b2e99246",
   "metadata": {},
   "outputs": [],
   "source": [
    "def create_serialized_example(name_to_values):\n",
    "\n",
    "    example = tf.train.Example()\n",
    "    for name, values in name_to_values.items():\n",
    "        feature = example.features.feature[name]\n",
    "        if isinstance(values[0], str):\n",
    "            for i in range(len(values)):\n",
    "                values[i] = values[i].encode('UTF-8')\n",
    "            add = feature.bytes_list.value.extend\n",
    "        elif isinstance(values[0], float):\n",
    "            add = feature.float32_list.value.extend\n",
    "        elif isinstance(values[0], int):\n",
    "            add = feature.int64_list.value.extend\n",
    "        else:\n",
    "            raise AssertionError('Unsupported type: %s' % type(values[0]))\n",
    "\n",
    "    add(values)\n",
    "    return example.SerializeToString()"
   ]
  },
  {
   "cell_type": "code",
   "execution_count": 82,
   "id": "20279605",
   "metadata": {},
   "outputs": [],
   "source": [
    "def cse(md):\n",
    "    example = tf.train.Example()\n",
    "    for name, values in md.items():\n",
    "        feature = example.features.feature[name]\n",
    "        if isinstance(values[0], str):\n",
    "            for i in range(len(values)):\n",
    "                values[i] = values[i].encode('UTF-8')\n",
    "            add = feature.bytes_list.value.extend\n",
    "        elif isinstance(values[0], float):\n",
    "            add = feature.float32_list.value.extend\n",
    "        elif isinstance(values[0], int):\n",
    "            add = feature.int64_list.value.extend\n",
    "        else:\n",
    "            raise AssertionError('unsupported type : %s' % type(values[0]))\n",
    "        \n",
    "        add(values)\n",
    "    return example.SerializeToString()"
   ]
  },
  {
   "cell_type": "code",
   "execution_count": 90,
   "id": "d561a65c",
   "metadata": {},
   "outputs": [
    {
     "ename": "AttributeError",
     "evalue": "float32_list",
     "output_type": "error",
     "traceback": [
      "\u001b[0;31m---------------------------------------------------------------------------\u001b[0m",
      "\u001b[0;31mAttributeError\u001b[0m                            Traceback (most recent call last)",
      "\u001b[0;32m<ipython-input-90-2b12f252d563>\u001b[0m in \u001b[0;36m<module>\u001b[0;34m\u001b[0m\n\u001b[0;32m----> 1\u001b[0;31m \u001b[0mcreate_serialized_example\u001b[0m\u001b[0;34m(\u001b[0m\u001b[0mmyd\u001b[0m\u001b[0;34m)\u001b[0m\u001b[0;34m\u001b[0m\u001b[0;34m\u001b[0m\u001b[0m\n\u001b[0m",
      "\u001b[0;32m<ipython-input-89-356d27cf317a>\u001b[0m in \u001b[0;36mcreate_serialized_example\u001b[0;34m(name_to_values)\u001b[0m\n\u001b[1;32m      9\u001b[0m             \u001b[0madd\u001b[0m \u001b[0;34m=\u001b[0m \u001b[0mfeature\u001b[0m\u001b[0;34m.\u001b[0m\u001b[0mbytes_list\u001b[0m\u001b[0;34m.\u001b[0m\u001b[0mvalue\u001b[0m\u001b[0;34m.\u001b[0m\u001b[0mextend\u001b[0m\u001b[0;34m\u001b[0m\u001b[0;34m\u001b[0m\u001b[0m\n\u001b[1;32m     10\u001b[0m         \u001b[0;32melif\u001b[0m \u001b[0misinstance\u001b[0m\u001b[0;34m(\u001b[0m\u001b[0mvalues\u001b[0m\u001b[0;34m[\u001b[0m\u001b[0;36m0\u001b[0m\u001b[0;34m]\u001b[0m\u001b[0;34m,\u001b[0m \u001b[0mfloat\u001b[0m\u001b[0;34m)\u001b[0m\u001b[0;34m:\u001b[0m\u001b[0;34m\u001b[0m\u001b[0;34m\u001b[0m\u001b[0m\n\u001b[0;32m---> 11\u001b[0;31m             \u001b[0madd\u001b[0m \u001b[0;34m=\u001b[0m \u001b[0mfeature\u001b[0m\u001b[0;34m.\u001b[0m\u001b[0mfloat32_list\u001b[0m\u001b[0;34m.\u001b[0m\u001b[0mvalue\u001b[0m\u001b[0;34m.\u001b[0m\u001b[0mextend\u001b[0m\u001b[0;34m\u001b[0m\u001b[0;34m\u001b[0m\u001b[0m\n\u001b[0m\u001b[1;32m     12\u001b[0m         \u001b[0;32melif\u001b[0m \u001b[0misinstance\u001b[0m\u001b[0;34m(\u001b[0m\u001b[0mvalues\u001b[0m\u001b[0;34m[\u001b[0m\u001b[0;36m0\u001b[0m\u001b[0;34m]\u001b[0m\u001b[0;34m,\u001b[0m \u001b[0mint\u001b[0m\u001b[0;34m)\u001b[0m\u001b[0;34m:\u001b[0m\u001b[0;34m\u001b[0m\u001b[0;34m\u001b[0m\u001b[0m\n\u001b[1;32m     13\u001b[0m             \u001b[0madd\u001b[0m \u001b[0;34m=\u001b[0m \u001b[0mfeature\u001b[0m\u001b[0;34m.\u001b[0m\u001b[0mint64_list\u001b[0m\u001b[0;34m.\u001b[0m\u001b[0mvalue\u001b[0m\u001b[0;34m.\u001b[0m\u001b[0mextend\u001b[0m\u001b[0;34m\u001b[0m\u001b[0;34m\u001b[0m\u001b[0m\n",
      "\u001b[0;31mAttributeError\u001b[0m: float32_list"
     ]
    }
   ],
   "source": [
    "create_serialized_example(myd)"
   ]
  },
  {
   "cell_type": "code",
   "execution_count": 53,
   "id": "d5e5e620",
   "metadata": {},
   "outputs": [
    {
     "name": "stdout",
     "output_type": "stream",
     "text": [
      "user b'user_id1'\n",
      "video b'video_id3'\n",
      "values 1.0\n",
      "weights 1.0\n"
     ]
    }
   ],
   "source": [
    "for name, values in myd.items():\n",
    "    print(name, values[0])\n",
    "    "
   ]
  },
  {
   "cell_type": "code",
   "execution_count": null,
   "id": "d075342e",
   "metadata": {},
   "outputs": [],
   "source": []
  }
 ],
 "metadata": {
  "kernelspec": {
   "display_name": "Python 3",
   "language": "python",
   "name": "python3"
  },
  "language_info": {
   "codemirror_mode": {
    "name": "ipython",
    "version": 3
   },
   "file_extension": ".py",
   "mimetype": "text/x-python",
   "name": "python",
   "nbconvert_exporter": "python",
   "pygments_lexer": "ipython3",
   "version": "3.8.8"
  }
 },
 "nbformat": 4,
 "nbformat_minor": 5
}
